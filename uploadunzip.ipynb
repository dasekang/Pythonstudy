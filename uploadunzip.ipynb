{
  "nbformat": 4,
  "nbformat_minor": 0,
  "metadata": {
    "colab": {
      "provenance": [],
      "authorship_tag": "ABX9TyNOt4vawKGvRQafa3V37AiF",
      "include_colab_link": true
    },
    "kernelspec": {
      "name": "python3",
      "display_name": "Python 3"
    },
    "language_info": {
      "name": "python"
    }
  },
  "cells": [
    {
      "cell_type": "markdown",
      "metadata": {
        "id": "view-in-github",
        "colab_type": "text"
      },
      "source": [
        "<a href=\"https://colab.research.google.com/github/dasekang/Pythonstudy/blob/master/uploadunzip.ipynb\" target=\"_parent\"><img src=\"https://colab.research.google.com/assets/colab-badge.svg\" alt=\"Open In Colab\"/></a>"
      ]
    },
    {
      "cell_type": "code",
      "execution_count": null,
      "metadata": {
        "id": "5R3BJJ2zjUti"
      },
      "outputs": [],
      "source": [
        "# # 업로드한 파일을 Google Drive에서 가져와 Colab에서 사용할 수 있도록 업로드된 zip 파일 해제 및 데이터 확인\n",
        "\n",
        "# 1. 필요한 모듈\n",
        "import zipfile\n",
        "import os\n",
        "\n",
        "# 2. Google Drive 마운트\n",
        "from google.colab import drive\n",
        "drive.mount('/content/drive')\n",
        "\n",
        "# 3. 데이터 폴더 경로 설정\n",
        "upload_path = '/content/drive/MyDrive/TestingData/'  # ZIP 파일이 있는 경로\n",
        "extract_path = '/content/data/'  # 압축 해제할 경로\n",
        "\n",
        "# 4. 업로드된 ZIP 파일 목록 확인\n",
        "zip_files = [f for f in os.listdir(upload_path) if f.endswith('.zip')]\n",
        "print(f\"발견된 압축 파일: {zip_files}\")\n",
        "\n",
        "# 5. 각 ZIP 파일 해제\n",
        "for zip_file in zip_files:\n",
        "    zip_file_path = os.path.join(upload_path, zip_file)  # ZIP 파일 전체 경로\n",
        "    with zipfile.ZipFile(zip_file_path, 'r') as zip_ref:\n",
        "        zip_ref.extractall(extract_path)  # 지정된 경로로 해제\n",
        "        print(f'{zip_file} 해제 완료.')\n",
        "\n",
        "print(f\"모든 파일이 {extract_path}에 해제되었습니다.\")"
      ]
    }
  ]
}